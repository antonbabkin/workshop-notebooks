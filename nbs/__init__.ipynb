{
 "cells": [
  {
   "cell_type": "markdown",
   "id": "a902355f-37af-4a1e-b492-ae682e4f6fd6",
   "metadata": {},
   "source": [
    "This notebook serves as a control panel for various high level tasks in the project. It can also be used to build `__init__.py`, top level module of your package where you can expose package API for use from other packages."
   ]
  },
  {
   "cell_type": "markdown",
   "id": "3b6cf81c-0515-4024-be98-f25d6b44ef2b",
   "metadata": {},
   "source": [
    "# Initialize paths\n",
    "\n",
    "File organization in this project requires package directory `popemp` to be visible inside of the notebooks directory `nbs`. When you clone this repository for the first time, you need to run the below cell to create a symbolic link that points to `popemp`. IPython `%cd` magics are used to temporarily move up one level to project root and then back. Calling `Nbd` class constructor creates symlinks and other neccesy directories."
   ]
  },
  {
   "cell_type": "code",
   "execution_count": null,
   "id": "50d806b6-9909-4c89-a89d-7695f4428683",
   "metadata": {},
   "outputs": [],
   "source": [
    "%cd ..\n",
    "from popemp.tools import Nbd\n",
    "nbd = Nbd('popemp')\n",
    "%cd -\n",
    "# make sure that \"popemp\" is visible inside of \"nbs\"\n",
    "print(f'Project root: \"{nbd.root}\"')\n",
    "print('Notebooks folder contents:')\n",
    "%ls {nbd.root/'nbs'}"
   ]
  },
  {
   "cell_type": "markdown",
   "id": "706bbd36-ea84-42a9-b27e-9abae215f812",
   "metadata": {},
   "source": [
    "# Test your environment\n",
    "Run the cell below. If your environment works, you should see a map with an interactive slider in the output."
   ]
  },
  {
   "cell_type": "code",
   "execution_count": null,
   "id": "5f93dc5b-3164-49ee-b751-6a7981358900",
   "metadata": {},
   "outputs": [],
   "source": [
    "import numpy as np\n",
    "import pandas as pd\n",
    "import geopandas\n",
    "import matplotlib.pyplot as plt\n",
    "import ipywidgets as widgets\n",
    "\n",
    "df = pd.read_csv('https://www2.census.gov/programs-surveys/bds/tables/time-series/bds2019_st.csv', dtype=str)\n",
    "df = df[['year', 'st', 'emp']]\n",
    "df['year'] = pd.to_numeric(df['year'])\n",
    "df['emp'] = pd.to_numeric(df['emp'])\n",
    "df = df.query('year >= 1990')\n",
    "emp = df\n",
    "\n",
    "df = geopandas.read_file('https://www2.census.gov/geo/tiger/GENZ2018/shp/cb_2018_us_state_20m.zip')\n",
    "df = df.rename(columns={'STATEFP': 'st'})\n",
    "df = df[['st', 'geometry']]\n",
    "df = df.query('st != \"02\" and st != \"15\"')\n",
    "geo = df\n",
    "\n",
    "def plot(y0, y1):\n",
    "    df = emp.copy()\n",
    "    df = df.query('year == @y0 or year == @y1').set_index(['st', 'year'])['emp']\n",
    "    df = df.unstack()\n",
    "    df = np.power(df[y1] / df[y0], 1/(y1-y0-1))*100 - 100\n",
    "    df = df.to_frame('emp_gr').reset_index()\n",
    "    df = geo.merge(df)\n",
    "    fig, ax = plt.subplots(figsize=(12, 8))\n",
    "    df.plot(ax=ax, column='emp_gr', legend=True,\n",
    "            legend_kwds={'label': f'Average annual employment growth by state, {y0}-{y1}' ,'orientation': 'horizontal'})\n",
    "    plt.close()\n",
    "    return fig\n",
    "\n",
    "def upd(change):\n",
    "    with out:\n",
    "        out.clear_output(True)\n",
    "        display(plot(*change['new']))\n",
    "years = widgets.IntRangeSlider(value=(2005, 2015), min=1990, max=2019, continuous_update=False)\n",
    "out = widgets.Output()\n",
    "years.observe(upd, 'value')\n",
    "upd({'new': years.value})\n",
    "widgets.VBox([years, out])"
   ]
  },
  {
   "cell_type": "markdown",
   "id": "fc67c0c1-dc64-4711-b95d-f4aa2714c2ee",
   "metadata": {},
   "source": [
    "# Build all modules"
   ]
  },
  {
   "cell_type": "code",
   "execution_count": null,
   "id": "82268f53-809f-428d-b23f-6468351496fd",
   "metadata": {},
   "outputs": [],
   "source": [
    "from popemp.tools import Nbd\n",
    "nbd = Nbd('popemp')\n",
    "nbd.nb2mod('tools.ipynb')\n",
    "nbd.nb2mod('data.ipynb')\n",
    "nbd.nb2mod('analysis.ipynb')"
   ]
  },
  {
   "cell_type": "markdown",
   "id": "b0e65722-ae60-496f-b23d-504f60e6aa37",
   "metadata": {},
   "source": [
    "# Build documentation site\n",
    "\n",
    "Notebooks are converted to temporary Markdown files in `docs_src/`, and then full documentation site is built in `docs/` using MkDocs utility."
   ]
  },
  {
   "cell_type": "code",
   "execution_count": null,
   "id": "45f52922-42ce-466a-a18c-ae6791a81118",
   "metadata": {},
   "outputs": [],
   "source": [
    "from popemp.tools import Nbd\n",
    "nbd = Nbd('popemp')\n",
    "nbd.build_docs()"
   ]
  }
 ],
 "metadata": {
  "language_info": {
   "name": "python"
  }
 },
 "nbformat": 4,
 "nbformat_minor": 5
}
