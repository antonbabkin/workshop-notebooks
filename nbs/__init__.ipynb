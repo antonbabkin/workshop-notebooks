{
 "cells": [
  {
   "cell_type": "markdown",
   "id": "3b6cf81c-0515-4024-be98-f25d6b44ef2b",
   "metadata": {},
   "source": [
    "# Initialize paths"
   ]
  },
  {
   "cell_type": "code",
   "execution_count": null,
   "id": "50d806b6-9909-4c89-a89d-7695f4428683",
   "metadata": {},
   "outputs": [],
   "source": [
    "%cd ..\n",
    "from popemp.tools import Nbd\n",
    "Nbd('popemp')\n",
    "%cd -"
   ]
  },
  {
   "cell_type": "markdown",
   "id": "706bbd36-ea84-42a9-b27e-9abae215f812",
   "metadata": {},
   "source": [
    "# Test your environment\n",
    "Run the cell below. If your environment works, you should see a map with an interactive slider in the output."
   ]
  },
  {
   "cell_type": "code",
   "execution_count": null,
   "id": "5f93dc5b-3164-49ee-b751-6a7981358900",
   "metadata": {},
   "outputs": [],
   "source": [
    "import numpy as np\n",
    "import pandas as pd\n",
    "import geopandas\n",
    "import matplotlib.pyplot as plt\n",
    "import ipywidgets as widgets\n",
    "\n",
    "df = pd.read_csv('https://www2.census.gov/programs-surveys/bds/tables/time-series/bds2019_st.csv', dtype=str)\n",
    "df = df[['year', 'st', 'emp']]\n",
    "df['year'] = pd.to_numeric(df['year'])\n",
    "df['emp'] = pd.to_numeric(df['emp'])\n",
    "df = df.query('year >= 1990')\n",
    "emp = df\n",
    "\n",
    "df = geopandas.read_file('https://www2.census.gov/geo/tiger/GENZ2018/shp/cb_2018_us_state_20m.zip')\n",
    "df = df.rename(columns={'STATEFP': 'st'})\n",
    "df = df[['st', 'geometry']]\n",
    "df = df.query('st != \"02\" and st != \"15\"')\n",
    "geo = df\n",
    "\n",
    "def plot(y0, y1):\n",
    "    df = emp.copy()\n",
    "    df = df.query('year == @y0 or year == @y1').set_index(['st', 'year'])['emp']\n",
    "    df = df.unstack()\n",
    "    df = np.power(df[y1] / df[y0], 1/(y1-y0-1))*100 - 100\n",
    "    df = df.to_frame('emp_gr').reset_index()\n",
    "    df = geo.merge(df)\n",
    "    fig, ax = plt.subplots(figsize=(12, 8))\n",
    "    df.plot(ax=ax, column='emp_gr', legend=True,\n",
    "            legend_kwds={'label': f'Average annual employment growth by state, {y0}-{y1}' ,'orientation': 'horizontal'})\n",
    "    plt.close()\n",
    "    return fig\n",
    "\n",
    "def upd(change):\n",
    "    with out:\n",
    "        out.clear_output(True)\n",
    "        display(plot(*change['new']))\n",
    "years = widgets.IntRangeSlider(value=(2005, 2015), min=1990, max=2019, continuous_update=False)\n",
    "out = widgets.Output()\n",
    "years.observe(upd, 'value')\n",
    "upd({'new': years.value})\n",
    "widgets.VBox([years, out])"
   ]
  },
  {
   "cell_type": "markdown",
   "id": "1c03fd7b-a727-42b5-96de-145cdbd2f0b9",
   "metadata": {},
   "source": [
    "# Git config"
   ]
  },
  {
   "cell_type": "code",
   "execution_count": null,
   "id": "e067058a-a2f4-4b8e-8508-dfab6fe77dfb",
   "metadata": {},
   "outputs": [],
   "source": [
    "%cd ..\n",
    "!nbdime config-git --enable\n",
    "!git config filter.jupyternotebook.clean \"jupyter nbconvert --stdin --stdout --to=notebook --ClearOutputPreprocessor.enabled=True --ClearMetadataPreprocessor.enabled=True --log-level=ERROR\"\n",
    "!git config filter.jupyternotebook.smudge cat\n",
    "!git config filter.jupyternotebook.required true\n",
    "!git config diff.jupyternotebook.command \"git-nbdiffdriver diff --ignore-outputs --ignore-metadata --ignore-details\"\n",
    "%cd -"
   ]
  },
  {
   "cell_type": "markdown",
   "id": "fc67c0c1-dc64-4711-b95d-f4aa2714c2ee",
   "metadata": {},
   "source": [
    "# Build all modules"
   ]
  },
  {
   "cell_type": "code",
   "execution_count": null,
   "id": "82268f53-809f-428d-b23f-6468351496fd",
   "metadata": {},
   "outputs": [],
   "source": [
    "from popemp.tools import Nbd\n",
    "nbd = Nbd('popemp')\n",
    "nbd.nb2mod('tools.ipynb')\n",
    "nbd.nb2mod('data.ipynb')\n",
    "nbd.nb2mod('analysis.ipynb')"
   ]
  },
  {
   "cell_type": "markdown",
   "id": "b0e65722-ae60-496f-b23d-504f60e6aa37",
   "metadata": {},
   "source": [
    "# Build documentation site"
   ]
  },
  {
   "cell_type": "code",
   "execution_count": null,
   "id": "45f52922-42ce-466a-a18c-ae6791a81118",
   "metadata": {},
   "outputs": [],
   "source": [
    "from popemp.tools import Nbd\n",
    "nbd = Nbd('popemp')\n",
    "nbd.build_docs()"
   ]
  }
 ],
 "metadata": {
  "language_info": {
   "name": "python"
  }
 },
 "nbformat": 4,
 "nbformat_minor": 5
}
