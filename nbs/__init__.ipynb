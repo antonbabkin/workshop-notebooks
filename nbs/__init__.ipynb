{
 "cells": [
  {
   "cell_type": "markdown",
   "id": "3b6cf81c-0515-4024-be98-f25d6b44ef2b",
   "metadata": {},
   "source": [
    "# Initialize paths"
   ]
  },
  {
   "cell_type": "code",
   "execution_count": null,
   "id": "50d806b6-9909-4c89-a89d-7695f4428683",
   "metadata": {},
   "outputs": [],
   "source": [
    "%cd ..\n",
    "from popemp.tools import Nbd\n",
    "Nbd('popemp')\n",
    "%cd -"
   ]
  },
  {
   "cell_type": "markdown",
   "id": "1c03fd7b-a727-42b5-96de-145cdbd2f0b9",
   "metadata": {},
   "source": [
    "# Git config"
   ]
  },
  {
   "cell_type": "code",
   "execution_count": null,
   "id": "e067058a-a2f4-4b8e-8508-dfab6fe77dfb",
   "metadata": {},
   "outputs": [],
   "source": [
    "%cd ..\n",
    "!nbdime config-git --enable\n",
    "!git config filter.jupyternotebook.clean \"jupyter nbconvert --stdin --stdout --to=notebook --ClearOutputPreprocessor.enabled=True --ClearMetadataPreprocessor.enabled=True --log-level=ERROR\"\n",
    "!git config filter.jupyternotebook.smudge cat\n",
    "!git config filter.jupyternotebook.required true\n",
    "!git config diff.jupyternotebook.command \"git-nbdiffdriver diff --ignore-outputs --ignore-metadata --ignore-details\"\n",
    "%cd -"
   ]
  },
  {
   "cell_type": "markdown",
   "id": "fc67c0c1-dc64-4711-b95d-f4aa2714c2ee",
   "metadata": {},
   "source": [
    "# Build all modules"
   ]
  },
  {
   "cell_type": "code",
   "execution_count": null,
   "id": "82268f53-809f-428d-b23f-6468351496fd",
   "metadata": {},
   "outputs": [],
   "source": [
    "nbd.nb2mod('tools.ipynb')\n",
    "nbd.nb2mod('data.ipynb')\n",
    "nbd.nb2mod('analysis.ipynb')"
   ]
  },
  {
   "cell_type": "markdown",
   "id": "b0e65722-ae60-496f-b23d-504f60e6aa37",
   "metadata": {},
   "source": [
    "# Build documentation site"
   ]
  },
  {
   "cell_type": "code",
   "execution_count": null,
   "id": "45f52922-42ce-466a-a18c-ae6791a81118",
   "metadata": {},
   "outputs": [],
   "source": [
    "from popemp.tools import Nbd\n",
    "nbd = Nbd('popemp')\n",
    "nbd.build_docs()"
   ]
  }
 ],
 "metadata": {
  "language_info": {
   "name": "python"
  }
 },
 "nbformat": 4,
 "nbformat_minor": 5
}
