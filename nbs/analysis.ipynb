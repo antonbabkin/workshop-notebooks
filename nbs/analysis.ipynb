{
 "cells": [
  {
   "cell_type": "markdown",
   "id": "ed4984f9-175b-4626-aa6e-3eed1a1ddc6c",
   "metadata": {},
   "source": [
    "[nbd]: # \"docs\"\n",
    "# Analysis of population and employment dynamics"
   ]
  },
  {
   "cell_type": "code",
   "execution_count": null,
   "id": "1ecf3e18-7dba-414a-afe5-4bb1c83bca09",
   "metadata": {},
   "outputs": [],
   "source": [
    "#nbd module\n",
    "import json\n",
    "\n",
    "import numpy as np\n",
    "import pandas as pd\n",
    "import matplotlib.pyplot as plt\n",
    "import ipywidgets as widgets\n",
    "import ipyleaflet as leaflet\n",
    "\n",
    "from popemp.tools import Nbd\n",
    "from popemp import data\n",
    "nbd = Nbd('popemp')"
   ]
  },
  {
   "cell_type": "code",
   "execution_count": null,
   "id": "67f43b55-c394-40f7-8f7d-222b1c67f74a",
   "metadata": {},
   "outputs": [],
   "source": [
    "#nbd module\n",
    "DF = {}\n",
    "\n",
    "def prep_data():\n",
    "    DF['geo'] = data.geo()\n",
    "    DF['by year'] = data_by_year()"
   ]
  },
  {
   "cell_type": "code",
   "execution_count": null,
   "id": "86b5f856-5793-4eb2-a137-caa23aabd20b",
   "metadata": {},
   "outputs": [],
   "source": [
    "DF['geo'] = data.geo()"
   ]
  },
  {
   "cell_type": "code",
   "execution_count": null,
   "id": "774d8783-e963-42f9-aba2-e051b61f4223",
   "metadata": {},
   "outputs": [],
   "source": [
    "#nbd module\n",
    "def data_by_year():\n",
    "    df = data.pop().merge(data.emp(), 'left').query('pop.notna() and emp.notna()')\n",
    "    return df"
   ]
  },
  {
   "cell_type": "code",
   "execution_count": null,
   "id": "b7d20f01-f52e-462e-a6a7-e0ae9ddb089c",
   "metadata": {},
   "outputs": [],
   "source": [
    "#nbd docs\n",
    "DF['by year'] = data_by_year()\n",
    "DF['by year'].head()"
   ]
  },
  {
   "cell_type": "code",
   "execution_count": null,
   "id": "3dd14249-f35a-40d3-9b03-98451bc04fc8",
   "metadata": {},
   "outputs": [],
   "source": [
    "#nbd module\n",
    "def plot_growth(st, cty, y0, y1):\n",
    "    \n",
    "    def _df(s, c, y0, y1):\n",
    "        \"\"\"Select state `s` and county `c` and compute indices.\"\"\"\n",
    "        d = DF['by year'].query('st == @s and cty == @c and year >= @y0 and year <= @y1')\n",
    "        d = d.set_index('year').sort_index()\n",
    "        d['pop_idx'] = d['pop'] / d.loc[y0, 'pop'] * 100\n",
    "        d['emp_idx'] = d['emp'] / d.loc[y0, 'emp'] * 100\n",
    "        return d\n",
    "    \n",
    "    d = _df(st, cty, y0, y1)\n",
    "    if cty == '000':\n",
    "        reference = 'United States'\n",
    "        d0 = _df('00', '000', y0, y1)\n",
    "    else:\n",
    "        reference = DF['geo'].query('st == @st and cty == \"000\"')['name'].iloc[0]\n",
    "        d0 = _df(st, '000', y0, y1)\n",
    "\n",
    "    fig, ax = plt.subplots(2, sharex=True)\n",
    "    plt.close()\n",
    "    if st == '00':\n",
    "        title = f'United States, {y0}-{y1}'\n",
    "    else:\n",
    "        nm = DF['geo'].query('st == @st and cty == @cty')['name'].iloc[0]\n",
    "        title = f'{nm}, {y0}-{y1}'\n",
    "    fig.suptitle(title)\n",
    "\n",
    "    a = ax[0]\n",
    "    a.set_title(f'Pop and emp index, {y0} = 100 (dotted {reference})')\n",
    "    l_pop = a.plot(d.index, d['pop_idx'])[0]\n",
    "    l_emp = a.plot(d.index, d['emp_idx'])[0]\n",
    "    a.plot(d0.index, d0['pop_idx'], ls=':', c=l_pop.get_color())\n",
    "    a.plot(d0.index, d0['emp_idx'], ls=':', c=l_emp.get_color())\n",
    "    a.set_xticks(d.index)\n",
    "    a.set_xticks([], minor=True)\n",
    "    a.grid(True)\n",
    "\n",
    "    a = ax[1]\n",
    "    d1 = d.query('year > @y0')\n",
    "    a.bar(d1.index, d1['pop_gr'], width=-0.4, align='edge')\n",
    "    a.bar(d1.index, d1['emp_gr'], width=0.4, align='edge')\n",
    "    a.set_title(f'Population and employment growth rate, %')\n",
    "    a.legend(['Population', 'Employment'])\n",
    "    a.grid(True)\n",
    "\n",
    "    return fig"
   ]
  },
  {
   "cell_type": "code",
   "execution_count": null,
   "id": "d71e32e0-5635-4fc7-864a-363d6504e1d0",
   "metadata": {},
   "outputs": [],
   "source": [
    "#nbd docs\n",
    "plot_growth('06', '000', 1995, 2005)"
   ]
  },
  {
   "cell_type": "markdown",
   "id": "aa1d77b2-10dd-485b-8574-13690e0b83b4",
   "metadata": {},
   "source": [
    "todo: years, state selector + refresh button"
   ]
  },
  {
   "cell_type": "code",
   "execution_count": null,
   "id": "af3cfcfe-3177-4a15-821a-8aae1a248655",
   "metadata": {},
   "outputs": [],
   "source": [
    "#nbd module\n",
    "def st_cty_selectors():\n",
    "    st_codes = DF['by year']['st'].unique().tolist()\n",
    "    d = DF['geo'].query('st != \"00\" and cty == \"000\"')\n",
    "    d = d.loc[d['st'].isin(st_codes), ['name', 'st']].sort_values('name')\n",
    "    w_st = widgets.Dropdown(options=[['United States', '00']] + d.values.tolist())\n",
    "\n",
    "    w_cty = widgets.Dropdown(options=[('----', '000')])\n",
    "\n",
    "    def update_cty_list(change):\n",
    "        st = change['new']\n",
    "        opts = [('----', '000')]\n",
    "        if st != '00':\n",
    "            cty_codes = DF['by year'].query('st == @st')['cty'].unique().tolist()\n",
    "            d = DF['geo'].query('st == @st and cty != \"000\"')\n",
    "            d = d.loc[(d['st'] == st) & d['cty'].isin(cty_codes), ['name', 'cty']].sort_values('name')\n",
    "            opts += [(n.split(', ')[0], c) for n, c in d.values]\n",
    "        w_cty.options = opts\n",
    "    w_st.observe(update_cty_list, 'value')\n",
    "    \n",
    "    return w_st, w_cty"
   ]
  },
  {
   "cell_type": "code",
   "execution_count": null,
   "id": "37c41f93-8ee2-4e8d-837d-ad0b6f9f0e14",
   "metadata": {},
   "outputs": [],
   "source": [
    "y = widgets.IntRangeSlider(value=(2005, 2015), min=1990, max=2019)\n",
    "s, c = st_cty_selectors()\n",
    "o = widgets.Output()\n",
    "b = widgets.Button(description='Update')\n",
    "def upd(*_):\n",
    "    with o:\n",
    "        o.clear_output(True)\n",
    "        fig = plot_growth(s.value, c.value, *y.value)\n",
    "        fig.set_size_inches(12, 6)\n",
    "        display(fig)\n",
    "b.on_click(upd)\n",
    "upd()\n",
    "\n",
    "widgets.VBox([\n",
    "    widgets.HBox([y, s, c, b]),\n",
    "    o])"
   ]
  },
  {
   "cell_type": "markdown",
   "id": "d770848a-6ad6-4709-aca9-6d729b072afe",
   "metadata": {},
   "source": [
    "[nbd]: # \"docs\"\n",
    "## Compare different areas\n",
    "\n",
    "Average growth rate of variable $x_t$ between years $s$ and $t$ is computed as $x_{agr} = \\left(\\frac{x_t}{x_s}\\right)^{\\frac{1}{t-s+1}}$."
   ]
  },
  {
   "cell_type": "code",
   "execution_count": null,
   "id": "ca7a09de-d5fc-429e-bfba-73f15928c62f",
   "metadata": {},
   "outputs": [],
   "source": [
    "#nbd module\n",
    "def compute_agr(y0, y1):\n",
    "    d = DF['by year'].query('year == @y0 or year == @y1').set_index(['st', 'cty', 'year'])[['pop', 'emp']].unstack('year')\n",
    "    d = d[(d.notna() & (d > 0)).all(1)]\n",
    "    d = d.stack(0)\n",
    "    d = np.power(d[y1] / d[y0], 1/(y1-y0+1)).unstack().add_suffix('_agr_abs')\n",
    "    d = (d - 1) * 100\n",
    "    d = d.reset_index()\n",
    "\n",
    "    d1 = d.query('cty == \"000\"').rename(columns={'pop_agr_abs': 'ref_pop_agr', 'emp_agr_abs': 'ref_emp_agr'})\n",
    "    d = d.merge(d1.drop(columns='cty'), 'left')\n",
    "    d.loc[d['cty'] == '000', ['ref_pop_agr', 'ref_emp_agr']] = d.loc[d['st'] == '00', ['ref_pop_agr', 'ref_emp_agr']].values\n",
    "    d['pop_agr_rel'] = d['pop_agr_abs'] - d['ref_pop_agr']\n",
    "    d['emp_agr_rel'] = d['emp_agr_abs'] - d['ref_emp_agr']\n",
    "\n",
    "    for abs_rel in ['abs', 'rel']:\n",
    "        e = d['emp_agr_' + abs_rel]\n",
    "        p = d['pop_agr_' + abs_rel]\n",
    "        x = pd.Series(index=d.index, dtype='str')\n",
    "        x[(p >= 0) & (e >= 0)] = 'pop+ emp+'\n",
    "        x[(p >= 0) & (e <  0)] = 'pop+ emp-'\n",
    "        x[(p <  0) & (e >= 0)] = 'pop- emp+'\n",
    "        x[(p <  0) & (e <  0)] = 'pop- emp-'\n",
    "        d['agr_cat_' + abs_rel] = x\n",
    "    \n",
    "    return d"
   ]
  },
  {
   "cell_type": "code",
   "execution_count": null,
   "id": "dab21d23-8d47-493c-80b3-1aa1a8bd7c6b",
   "metadata": {},
   "outputs": [],
   "source": [
    "#nbd module\n",
    "agr_colors = {\n",
    "    'pop+ emp+': '#d95f02',\n",
    "    'pop+ emp-': '#1b9e77',\n",
    "    'pop- emp+': '#e7298a',\n",
    "    'pop- emp-': '#7570b3'\n",
    "}     \n",
    "\n",
    "def color_from_agr_cat(df, abs_rel):       \n",
    "    return df['agr_cat_' + abs_rel].map(agr_colors)"
   ]
  },
  {
   "cell_type": "code",
   "execution_count": null,
   "id": "b2c73f1c-bc43-453d-93bd-a9f4dad24e35",
   "metadata": {},
   "outputs": [],
   "source": [
    "#nbd docs\n",
    "d = compute_agr(2000, 2010)\n",
    "d['c'] = color_from_agr_cat(d, 'abs')\n",
    "d.head()"
   ]
  },
  {
   "cell_type": "code",
   "execution_count": null,
   "id": "14ac1f4a-b114-48ff-b076-4d65c8e72d2e",
   "metadata": {},
   "outputs": [],
   "source": [
    "#nbd module\n",
    "def plot_agr(st, y0, y1, abs_rel):\n",
    "    d = compute_agr(y0, y1)\n",
    "    if st == '00':\n",
    "        d = d.query('st != \"00\" and cty == \"000\"')\n",
    "        where = 'states'\n",
    "        if abs_rel == 'rel':\n",
    "            where += ' (relative to USA)'\n",
    "    else:\n",
    "        d = d.query('st == @st')\n",
    "        name = DF['geo'].query('st == @st and cty == \"000\"')['name'].iloc[0]\n",
    "        where = f'{name} counties'\n",
    "        if abs_rel == 'rel':\n",
    "            where += ' (relative to state)'\n",
    "    d = d.copy()\n",
    "    d['cat'] = color_from_agr_cat(d, abs_rel)\n",
    "\n",
    "    fig, ax = plt.subplots(figsize=(8, 8))\n",
    "    plt.close()\n",
    "    \n",
    "    d.plot.scatter(f'pop_agr_{abs_rel}', f'emp_agr_{abs_rel}', ax=ax, c='cat')\n",
    "    xlim = abs(max(ax.get_xlim(), key=abs))\n",
    "    ax.set_xlim(-xlim, xlim)\n",
    "    ylim = abs(max(ax.get_ylim(), key=abs))\n",
    "    ax.set_ylim(-ylim, ylim)\n",
    "    ax.axvline(0, ls='-')\n",
    "    ax.axhline(0, ls='-')\n",
    "    if abs_rel == 'abs':\n",
    "        ax.axvline(d['ref_pop_agr'].iloc[0], ls=':')\n",
    "        ax.axhline(d['ref_emp_agr'].iloc[0], ls=':')\n",
    "        \n",
    "    ax.set_title(f'Average growth rate in {where}, {y0}-{y1}')\n",
    "    ax.set_xlabel('Population')\n",
    "    ax.set_ylabel('Employment')\n",
    "    \n",
    "    return fig"
   ]
  },
  {
   "cell_type": "code",
   "execution_count": null,
   "id": "a15c95e9-ee2c-40ad-8b9d-de47e1a75ebc",
   "metadata": {},
   "outputs": [],
   "source": [
    "#nbd docs\n",
    "plot_agr('55', 2005, 2015, 'rel')"
   ]
  },
  {
   "cell_type": "code",
   "execution_count": null,
   "id": "b4bf2b97-d1f1-4ef3-b3ea-edb0aa699e53",
   "metadata": {},
   "outputs": [],
   "source": [
    "y = widgets.IntRangeSlider(value=(2005, 2015), min=1990, max=2019)\n",
    "s, _ = st_cty_selectors()\n",
    "r = widgets.RadioButtons(options=[('Absolute', 'abs'), ('Relative', 'rel')])\n",
    "o = widgets.Output()\n",
    "b = widgets.Button(description='Update')\n",
    "def upd(*_):\n",
    "    with o:\n",
    "        o.clear_output(True)\n",
    "        fig = plot_agr(s.value, *y.value, r.value)\n",
    "        display(fig)\n",
    "b.on_click(upd)\n",
    "upd()\n",
    "\n",
    "widgets.VBox([\n",
    "    widgets.HBox([y, s, r, b]),\n",
    "    o])"
   ]
  },
  {
   "cell_type": "markdown",
   "id": "52227814-7f3a-4c91-862d-7c1ad786f13f",
   "metadata": {},
   "source": [
    "## Map"
   ]
  },
  {
   "cell_type": "code",
   "execution_count": null,
   "id": "e0feed26-56b2-40ce-b157-06c9f32d8632",
   "metadata": {},
   "outputs": [],
   "source": [
    "#nbd module\n",
    "class Map:\n",
    "    def __init__(self, click_callback=None):\n",
    "        self.widget = leaflet.Map(center=(40, -95), zoom=4)\n",
    "        self.widget.add_control(leaflet.LegendControl(agr_colors, position='topright'))\n",
    "        if click_callback is None:\n",
    "            self.click_callback = self.dummy_callback\n",
    "        else:\n",
    "            self.click_callback = click_callback\n",
    "        \n",
    "    @staticmethod\n",
    "    def dummy_callback(**kw):\n",
    "        pass\n",
    "\n",
    "    @staticmethod\n",
    "    def area_gdf(st, y0, y1, abs_rel):\n",
    "        if st == '00':\n",
    "            df = DF['geo'].query('cty == \"000\"')\n",
    "        else:\n",
    "            df = DF['geo'].query('st == @st')\n",
    "\n",
    "        df = df.merge(compute_agr(y0, y1))\n",
    "        df['color'] = color_from_agr_cat(df, abs_rel)\n",
    "        df = df[['st', 'cty', 'name', 'geometry', 'color']]\n",
    "        return df\n",
    "    \n",
    "    @staticmethod\n",
    "    def area_style(feature):\n",
    "        style = dict(fillColor=feature['properties']['color'])\n",
    "        return style\n",
    "    \n",
    "    def upd(self, st, y0, y1, abs_rel):\n",
    "        # ipyleaflet.GeoData is a natural choice for area layer, but it does not support style_callback()\n",
    "        # so we use ipyleaflet.GeoJSON instead\n",
    "        # proposed fix: https://github.com/jupyter-widgets/ipyleaflet/pull/786\n",
    "        gdf = self.area_gdf(st, y0, y1, abs_rel)\n",
    "        layer = leaflet.GeoJSON(data=json.loads(gdf.to_json()),\n",
    "                        style={'stroke': False, 'fillOpacity': 0.6},\n",
    "                        hover_style={'stroke': True},\n",
    "                        style_callback=self.area_style)\n",
    "        layer.on_click(self.click_callback)\n",
    "    \n",
    "        if len(self.widget.layers) == 2:\n",
    "            self.widget.remove_layer(self.widget.layers[1])\n",
    "        self.widget.add_layer(layer)\n",
    "        "
   ]
  },
  {
   "cell_type": "code",
   "execution_count": null,
   "id": "24ed6e1b-57f1-4aec-bfcc-fbbafd05695e",
   "metadata": {},
   "outputs": [],
   "source": [
    "m = Map()\n",
    "m.upd('00', 2005, 2015, 'rel')\n",
    "m.widget"
   ]
  },
  {
   "cell_type": "code",
   "execution_count": null,
   "id": "c339a26b-3e51-46df-9748-7b6186664ccf",
   "metadata": {},
   "outputs": [],
   "source": [
    "def print_area_id(**kw):\n",
    "    p = kw['properties']\n",
    "    print(p['st'], p['cty'], p['name'])\n",
    "m.click_callback = print_area_id\n",
    "m.upd('55', 2005, 2015, 'rel')"
   ]
  },
  {
   "cell_type": "markdown",
   "id": "2e2eba79-0cfd-4be6-9f73-ff6969080e9d",
   "metadata": {
    "tags": []
   },
   "source": [
    "# Build this module"
   ]
  },
  {
   "cell_type": "code",
   "execution_count": null,
   "id": "5b12f758-d201-4690-a26e-d4960c5691b7",
   "metadata": {},
   "outputs": [],
   "source": [
    "nbd.nb2mod('analysis.ipynb')"
   ]
  }
 ],
 "metadata": {
  "language_info": {
   "name": "python"
  }
 },
 "nbformat": 4,
 "nbformat_minor": 5
}
