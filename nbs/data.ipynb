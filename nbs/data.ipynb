{
 "cells": [
  {
   "cell_type": "markdown",
   "id": "4eeb536d-eb49-42c0-acae-8427b16aac56",
   "metadata": {},
   "source": [
    "[nbd]: # \"docs\"\n",
    "# Retrieve and prepare data\n",
    "\n",
    "In this module we download, process and store geographic shapes, population and employment data from US Census Bureau."
   ]
  },
  {
   "cell_type": "code",
   "execution_count": null,
   "id": "f54a7c3d-ae05-4c1a-80f1-b61ec40cf957",
   "metadata": {},
   "outputs": [],
   "source": [
    "#nbd module\n",
    "import io\n",
    "\n",
    "import numpy as np\n",
    "import pandas as pd\n",
    "import geopandas\n",
    "import matplotlib.pyplot as plt\n",
    "\n",
    "from popemp.tools import Nbd, download_file\n",
    "\n",
    "nbd = Nbd('popemp')\n",
    "data_dir = nbd.root/'data'"
   ]
  },
  {
   "cell_type": "markdown",
   "id": "714037e8-7a3a-4ceb-8b8f-2d45ee14bc64",
   "metadata": {
    "tags": []
   },
   "source": [
    "[nbd]: # \"docs\"\n",
    "# Geography\n",
    "\n",
    "We need state and county FIPS codes and names, and their shapes for map visualizations. Here we use [2018 Cartographic Boundary Files](https://www.census.gov/geographies/mapping-files/time-series/geo/carto-boundary-file.2018.html) - simplified representations of selected geographic areas from the Census Bureau’s MAF/TIGER geographic database. These boundary files are specifically designed for small scale thematic mapping.\n",
    "\n",
    "Function `geo()` downloads state and county 1:20,000,000 shapefiles using [geopandas](https://geopandas.org) library, reshapes and combines them into single a GeoDataFrame. We use county code `\"000\"` as indicator of state rows. Resulting dataframe is cached on disk as a binary `pickle` file, and when subsequent calls of `geo()` will simply read and return the dataframe from cache to save time and avoid work. Delete `data/geo.pkl` if you want to re-create the dataframe, for example, after you changed the function. Similarly, `download_file()` also caches files on disk."
   ]
  },
  {
   "cell_type": "code",
   "execution_count": null,
   "id": "14afe1b4-cdea-40ff-ab05-01d41b19ee12",
   "metadata": {},
   "outputs": [],
   "source": [
    "#nbd module\n",
    "def geo():\n",
    "    df_file = data_dir/'geo.pkl'\n",
    "    if df_file.exists():\n",
    "        return pd.read_pickle(df_file)\n",
    "    \n",
    "    f = download_file('https://www2.census.gov/geo/tiger/GENZ2018/shp/cb_2018_us_state_20m.zip', data_dir)\n",
    "    df = geopandas.read_file(f)\n",
    "    df = df.rename(columns={'STATEFP': 'st', 'NAME': 'name'})\n",
    "    df = df[['st', 'name', 'geometry']]\n",
    "    df['cty'] = '000'\n",
    "    st = df\n",
    "\n",
    "    f = download_file('https://www2.census.gov/geo/tiger/GENZ2018/shp/cb_2018_us_county_20m.zip', data_dir)\n",
    "    df = geopandas.read_file(f)\n",
    "    df = df.rename(columns={'STATEFP': 'st', 'COUNTYFP': 'cty', 'NAME': 'name_cty'})\n",
    "    df = df[['st', 'cty', 'name_cty', 'geometry']]\n",
    "    df = df.merge(st[['st', 'name']], 'left')\n",
    "    df['name'] = df['name_cty'] + ' county, ' + df['name']\n",
    "    del df['name_cty']\n",
    "\n",
    "    df = pd.concat([df, st]).sort_values(['st', 'cty'], ignore_index=True)\n",
    "    df = df[['st', 'cty', 'name', 'geometry']]\n",
    "    \n",
    "    df.to_pickle(df_file)\n",
    "    return df"
   ]
  },
  {
   "cell_type": "markdown",
   "id": "534e9285-50a5-48e2-b801-a0d2626d995f",
   "metadata": {},
   "source": [
    "[nbd]: # \"docs\"\n",
    "This is the top of the dataframe."
   ]
  },
  {
   "cell_type": "code",
   "execution_count": null,
   "id": "d12c4437-5524-469f-893e-eacfc24f8a0b",
   "metadata": {},
   "outputs": [],
   "source": [
    "#nbd docs\n",
    "geo().head()"
   ]
  },
  {
   "cell_type": "markdown",
   "id": "5e5cdc5e-035d-4b25-81b1-aac349b180be",
   "metadata": {},
   "source": [
    "[nbd]: # \"docs\"\n",
    "`geopandas` stores shapes as [shapely](https://shapely.readthedocs.io) polygons in the `geometry` column. You can perform various geometric operations with these objects, refer to `geopandas` and `shapely` documentation. For example, let's select and plot all states that cross the band between -120 and -110 degrees of longitude, roughly US Pacific coast."
   ]
  },
  {
   "cell_type": "code",
   "execution_count": null,
   "id": "debb11cf-3da5-4a4f-bc19-2ff2fe3932ed",
   "metadata": {},
   "outputs": [],
   "source": [
    "#nbd docs\n",
    "d = geo().cx[-120:-110, :].query('cty == \"000\"')\n",
    "d.plot();"
   ]
  },
  {
   "cell_type": "markdown",
   "id": "9a5a74d2-e499-44d1-a50b-8b3ed4f397b4",
   "metadata": {},
   "source": [
    "[nbd]: # \"docs\"\n",
    "Be mindful of Coordinate Reference System ([CRS](https://en.wikipedia.org/wiki/Spatial_reference_system)) when working with shapefiles. If you combine shapefiles from multiple sources, make sure to align their CRS's. Census shapefiles come in `EPSG:4269`. The same map in \"Spherical Mercator\" (`EPSG:3857`, used in Google Maps) will look like this."
   ]
  },
  {
   "cell_type": "code",
   "execution_count": null,
   "id": "d7da9be6-a2a6-40d8-9c3e-12ff9cde447b",
   "metadata": {},
   "outputs": [],
   "source": [
    "#nbd docs\n",
    "d.to_crs(epsg=3857).plot();"
   ]
  },
  {
   "cell_type": "markdown",
   "id": "7d1fe41e-3c1d-4df9-ac98-7fc93c932187",
   "metadata": {
    "tags": []
   },
   "source": [
    "[nbd]: # \"docs\"\n",
    "# Population\n",
    "\n",
    "We are using annual state and county population 1990-2019 from Census Population Estimates Program ([PEP](https://www.census.gov/programs-surveys/popest.html)). Data are available in 10 year blocks for [2010-2019](https://www.census.gov/data/datasets/time-series/demo/popest/2010s-counties-total.html), [2000-2010](https://www.census.gov/data/datasets/time-series/demo/popest/intercensal-2000-2010-counties.html) and [1990-1999](https://www2.census.gov/programs-surveys/popest/tables/1990-2000/).\n",
    "\n",
    "Note on [character encoding](https://www.census.gov/programs-surveys/geography/technical-documentation/user-note/special-characters.html) of plain text files, including CSV: newer files use `\"UTF-8\"`, older use `\"ISO-8859-1\"`.\n",
    "\n",
    "Post-2000 files are simple CSV tables. Functions `pop_2010_2019()` and `pop_2000_2009()` download and read them into dataframes with minor manipulation."
   ]
  },
  {
   "cell_type": "code",
   "execution_count": null,
   "id": "044bba9d-1d05-45b4-a791-4c59054fa313",
   "metadata": {},
   "outputs": [],
   "source": [
    "#nbd module\n",
    "def pop_2010_2019():\n",
    "    f = download_file('https://www2.census.gov/programs-surveys/popest/datasets/2010-2019/counties/totals/co-est2019-alldata.csv', data_dir)\n",
    "    cols = ['STATE', 'COUNTY'] + [f'POPESTIMATE{y}' for y in range(2010, 2020)]\n",
    "    df = pd.read_csv(f, encoding='ISO-8859-1', dtype='str', usecols=cols)\n",
    "    df = pd.wide_to_long(df, 'POPESTIMATE', ['STATE', 'COUNTY'], 'year')\n",
    "    df = df.reset_index().rename(columns={'STATE': 'st', 'COUNTY': 'cty', 'POPESTIMATE': 'pop'})\n",
    "    df['pop'] = df['pop'].astype('int')\n",
    "    return df"
   ]
  },
  {
   "cell_type": "code",
   "execution_count": null,
   "id": "98b8a631-e81e-4dfe-9488-a2470b4fc726",
   "metadata": {},
   "outputs": [],
   "source": [
    "#nbd module\n",
    "def pop_2000_2009():\n",
    "    f = download_file('https://www2.census.gov/programs-surveys/popest/datasets/2000-2010/intercensal/county/co-est00int-tot.csv', data_dir)\n",
    "    cols = ['STATE', 'COUNTY'] + [f'POPESTIMATE{y}' for y in range(2000, 2010)]\n",
    "    df = pd.read_csv(f, encoding='ISO-8859-1', dtype='str', usecols=cols)\n",
    "    df = pd.wide_to_long(df, 'POPESTIMATE', ['STATE', 'COUNTY'], 'year')\n",
    "    df = df.reset_index().rename(columns={'STATE': 'st', 'COUNTY': 'cty', 'POPESTIMATE': 'pop'})\n",
    "    df['st'] = df['st'].str.pad(2, fillchar='0')\n",
    "    df['cty'] = df['cty'].str.pad(3, fillchar='0')\n",
    "    df['pop'] = df['pop'].astype('int')\n",
    "    return df"
   ]
  },
  {
   "cell_type": "markdown",
   "id": "37911197-a0f1-4b2d-a31d-e1f03c8fe297",
   "metadata": {},
   "source": [
    "[nbd]: # \"docs\"\n",
    "1990-1999 data are in a long text file. `pop_1990_1999()` does some more elaborate parsing. Table with state and county population has `\"1\"` as the first character in every line. We use this to read necessary lines into a temporary string buffer, and then parse the buffer into a dataframe."
   ]
  },
  {
   "cell_type": "code",
   "execution_count": null,
   "id": "55532164-7320-4075-a496-53d53fcfdc91",
   "metadata": {},
   "outputs": [],
   "source": [
    "#nbd module\n",
    "def pop_1990_1999():\n",
    "    f = download_file('https://www2.census.gov/programs-surveys/popest/tables/1990-2000/estimates-and-change-1990-2000/2000c8_00.txt', data_dir)\n",
    "    with open(f, encoding='ISO-8859-1') as file:\n",
    "        data = io.StringIO()\n",
    "        in_table = False\n",
    "        for line in file:\n",
    "            if in_table:\n",
    "                if line[0] == '1':\n",
    "                    data.write(line)\n",
    "                else:\n",
    "                    break\n",
    "            else:\n",
    "                if line[0] == '1':\n",
    "                    in_table = True\n",
    "                    data.write(line)\n",
    "\n",
    "    data.seek(0)\n",
    "    df = pd.read_fwf(data, dtype='str', header=None)\n",
    "    # skip first row (US total), keep fips and popest cols\n",
    "    df = df.iloc[1:, 1:13]\n",
    "    df.columns = ['fips'] + [f'pop{y}' for y in range(2000, 1989, -1)]\n",
    "    df['fips'] = df['fips'].str.pad(5, 'right', '0')\n",
    "    df['st'] = df['fips'].str[:2]\n",
    "    df['cty'] = df['fips'].str[2:]\n",
    "    df = df.drop(columns=['pop2000', 'fips'])\n",
    "    df = pd.wide_to_long(df, 'pop', ['st', 'cty'], 'year')\n",
    "    df = df.reset_index()\n",
    "    df['pop'] = pd.to_numeric(df['pop'].str.replace(',', '', regex=False)).astype('int')\n",
    "\n",
    "    return df"
   ]
  },
  {
   "cell_type": "markdown",
   "id": "502bca26-05b2-488b-b9ba-3d7ab249e6e4",
   "metadata": {},
   "source": [
    "[nbd]: # \"docs\"\n",
    "Finally, in `pop()` we call the three above functions to create three frames, combine them and add aggregated rows of national totals with state code `\"00\"` and county code `\"000\"`. We also compute year-to-year growth rate in percentage points in column `pop_gr`. Final dataframe is pickled for easy access."
   ]
  },
  {
   "cell_type": "code",
   "execution_count": null,
   "id": "1019dc9a-c585-46d4-a75e-e48f377fe58d",
   "metadata": {},
   "outputs": [],
   "source": [
    "#nbd module\n",
    "def pop():\n",
    "    df_file = data_dir/'pop.pkl'\n",
    "    if df_file.exists():\n",
    "        return pd.read_pickle(df_file)\n",
    "    \n",
    "    d1 = pop_1990_1999()\n",
    "    d2 = pop_2000_2009()\n",
    "    d3 = pop_2010_2019()\n",
    "    df = pd.concat([d1, d2, d3], ignore_index=True)\n",
    "\n",
    "    d = df.query('cty == \"000\"').groupby('year')['pop'].sum()\n",
    "    d = d.to_frame('pop').reset_index()\n",
    "    d[['st', 'cty']] = ['00', '000']\n",
    "    df = pd.concat([df, d], ignore_index=True)\n",
    "\n",
    "    df = df.sort_values('year')\n",
    "    df['pop_'] = df.groupby(['st', 'cty'])['pop'].shift()\n",
    "    df['pop_gr'] = df.eval('(pop / pop_ - 1) * 100')\n",
    "    del df['pop_']\n",
    "\n",
    "    df = df.sort_values(['st', 'cty', 'year']).reset_index()\n",
    "    df = df[['st', 'cty', 'year', 'pop', 'pop_gr']]\n",
    "\n",
    "    df.to_pickle(df_file)\n",
    "    return df"
   ]
  },
  {
   "cell_type": "code",
   "execution_count": null,
   "id": "7283a16d-f673-4c13-819f-9e236c1c4d01",
   "metadata": {},
   "outputs": [],
   "source": [
    "#nbd docs\n",
    "pop().head()"
   ]
  },
  {
   "cell_type": "markdown",
   "id": "d122e2a4-6912-4757-aa60-d8832dbdd68e",
   "metadata": {},
   "source": [
    "[nbd]: # \"docs\"\n",
    "Quick visual inspection of the data reveals an abnormal population jump between 1999 and 2000. It is clear on national and state level, but not so on county level. I could not find out the cause, but it is most likely a data artifact. This is something to be aware of, but it does not matter for the purposes of this project."
   ]
  },
  {
   "cell_type": "code",
   "execution_count": null,
   "id": "5642921c-cd7f-4198-a688-8aa871b66ffa",
   "metadata": {},
   "outputs": [],
   "source": [
    "#nbd docs\n",
    "d = pop().set_index('year')\n",
    "fig, ax = plt.subplots(1, 3, figsize=(16, 4))\n",
    "d.query('st == \"00\" and cty == \"000\"')['pop'].plot(ax=ax[0])\n",
    "ax[0].set_title('National')\n",
    "d.query('st == \"55\" and cty == \"000\"')['pop'].plot(ax=ax[1])\n",
    "ax[1].set_title('Wisconsin')\n",
    "d.query('st == \"55\" and cty == \"025\"')['pop'].plot(ax=ax[2])\n",
    "ax[2].set_title('Wisconsin, Dane county');"
   ]
  },
  {
   "cell_type": "markdown",
   "id": "273790d0-a923-4f6c-ac4a-4363cece5c9c",
   "metadata": {
    "tags": []
   },
   "source": [
    "[nbd]: # \"docs\"\n",
    "# Employment\n",
    "\n",
    "State and county employment comes from Census Business Dynamics Statistics ([BDS](https://www.census.gov/programs-surveys/bds.html)). This product has some improvements over more widely used County Business Patterns, and entire history can be downloaded in a single table from [here](https://www.census.gov/data/datasets/time-series/econ/bds/bds-datasets.html).\n",
    "\n",
    "Data does not require much processing which is done in the `emp()`. National, state and county tables are downloaded and combined, again using convention of setting state to `\"00\"` for national and county to `\"000\"` for national and state rows. Percentage year-to-year growth rate is renamed from `net_job_creation_rate` to `emp_gr`. Data goes back to 1978, but we only need from 1990 for combination with population."
   ]
  },
  {
   "cell_type": "code",
   "execution_count": null,
   "id": "f6e16390-b252-4d1b-b9f0-763776590e0b",
   "metadata": {},
   "outputs": [],
   "source": [
    "#nbd module\n",
    "def emp():\n",
    "    df_file = data_dir/'emp.pkl'\n",
    "    if df_file.exists():\n",
    "        return pd.read_pickle(df_file)    \n",
    "    \n",
    "    # economy-wide\n",
    "    f = download_file('https://www2.census.gov/programs-surveys/bds/tables/time-series/bds2019.csv', data_dir)\n",
    "    df = pd.read_csv(f, usecols=['year', 'emp', 'net_job_creation_rate'], dtype='str')\n",
    "    df[['st', 'cty']] = ['00', '000']\n",
    "    d1 = df\n",
    "\n",
    "    # by state\n",
    "    f = download_file('https://www2.census.gov/programs-surveys/bds/tables/time-series/bds2019_st.csv', data_dir)\n",
    "    df = pd.read_csv(f, usecols=['year', 'st', 'emp', 'net_job_creation_rate'], dtype='str')\n",
    "    df['cty'] = '000'\n",
    "    d2 = df\n",
    "\n",
    "    # by county\n",
    "    f = download_file('https://www2.census.gov/programs-surveys/bds/tables/time-series/bds2019_cty.csv', data_dir)\n",
    "    df = pd.read_csv(f, usecols=['year', 'st', 'cty', 'emp', 'net_job_creation_rate'], dtype='str')\n",
    "\n",
    "    df = pd.concat([d1, d2, df])\n",
    "    df = df.rename(columns={'net_job_creation_rate': 'emp_gr'})\n",
    "    df['year'] = df['year'].astype('int16')\n",
    "    df['emp'] = pd.to_numeric(df['emp'], 'coerce')\n",
    "    df['emp_gr'] = pd.to_numeric(df['emp_gr'], 'coerce')\n",
    "    df = df[['st', 'cty', 'year', 'emp', 'emp_gr']]\n",
    "    df = df.query('year >= 1990').reset_index(drop=True)\n",
    "    \n",
    "    df.to_pickle(df_file)\n",
    "    return df"
   ]
  },
  {
   "cell_type": "code",
   "execution_count": null,
   "id": "efbfc687-509a-41f0-94d4-8d5cccffd7f7",
   "metadata": {},
   "outputs": [],
   "source": [
    "#nbd docs\n",
    "emp().head()"
   ]
  },
  {
   "cell_type": "code",
   "execution_count": null,
   "id": "79f5654c-4b5e-4bac-9734-954aa55a2d80",
   "metadata": {},
   "outputs": [],
   "source": [
    "#nbd docs\n",
    "d = emp().set_index('year')\n",
    "fig, ax = plt.subplots(1, 3, figsize=(16, 4))\n",
    "d.query('st == \"00\" and cty == \"000\"')['emp'].plot(ax=ax[0])\n",
    "ax[0].set_title('National')\n",
    "d.query('st == \"55\" and cty == \"000\"')['emp'].plot(ax=ax[1])\n",
    "ax[1].set_title('Wisconsin')\n",
    "d.query('st == \"55\" and cty == \"025\"')['emp'].plot(ax=ax[2])\n",
    "ax[2].set_title('Wisconsin, Dane county');"
   ]
  },
  {
   "cell_type": "markdown",
   "id": "d910370f-25e7-4d7d-b5a3-ed02746f3fe1",
   "metadata": {
    "tags": []
   },
   "source": [
    "[nbd]: # \"docs\"\n",
    "# API\n",
    "\n",
    "Here is a little demo of retrieving a table from a data provider using API. We are not going to use it in this project, because bulk data download as readily available as CSV files, and API access rates are often limited and may require access key. However for some other data sources API access may be the only option. Another good use case is when whole data is huge, and you are building a web app (dashboard) that only needs to pull small pieces of data at a time.\n",
    "\n",
    "Here I show how to query a portion of the BDS dataset from [Census Bureau API](https://www.census.gov/data/developers/guidance.html). Most of Census data products can be accessed like this, and BDS specific documentation is [here](https://www.census.gov/data/developers/data-sets/business-dynamics.html) with some query examples [there](https://api.census.gov/data/timeseries/bds/examples.html).\n",
    "\n",
    "Typically, to use an API you need to submit a HTTP request and receive back a response. Request queries are customized by chanding parameters of the URL string, and responses return data in JSON, XML or some other format. Python [requests](https://docs.python-requests.org) library hides a lot of technical details and is easy to use. When you are constructing your query URL, you can also just open it in a browser for a quick preview.\n",
    "\n",
    "Here is a query line that will pull employment data for all counties in Wisconsin from 2015 to 2019.\n",
    "```\n",
    "https://api.census.gov/data/timeseries/bds?get=NAME,ESTAB,EMP,YEAR&for=county:*&in=state:55&time=from+2015+to+2019&NAICS=00&key=YOUR_KEY_GOES_HERE\n",
    "```\n",
    "\n",
    "Everything to the left of `?` is the base URL or endpoint: `https://api.census.gov/data/timeseries/bds`.\n",
    "\n",
    "Everything to the right are key-value parameter pairs, separated by `&`:  \n",
    "`get=NAME,ESTAB,EMP,YEAR` *data columns*  \n",
    "`for=county:*` *all counties*  \n",
    "`in=state:55` *state FIPS code \"55\" for Wisconsin*  \n",
    "`time=from+2015+to+2019` *time series range*  \n",
    "`NAICS=00` *\"00\" for economy-wide employment*  \n",
    "`key=YOUR_KEY_GOES_HERE` *drop this part if you don't have a key*\n",
    "\n",
    "Query limits:\n",
    "> You can include up to 50 variables in a single API query and can make up to 500 queries per IP address per day. More than 500 queries per IP address per day requires that you register for a Census key. That key will be part of your data request URL string.\n",
    "\n",
    "Querying without a key will probably work for you, unless you are sharing your IP with many other users. You can obtain a key for free, but you should keep it secret and not accidentally share, for example, by hard-coding it in your code or commiting a file. Here I have my key in a text file that is ignored in `.gitignore` and only exists in my local copy of the repo. Another common appoach is to store keys in OS environment variables."
   ]
  },
  {
   "cell_type": "code",
   "execution_count": null,
   "id": "545828cc-dba7-48a6-9783-6d75bf0bfd43",
   "metadata": {},
   "outputs": [],
   "source": [
    "#nbd docs\n",
    "import requests\n",
    "\n",
    "p = nbd.root/'census_api_key.txt'\n",
    "if p.exists():\n",
    "    key = '&key=' + p.read_text()\n",
    "else:\n",
    "    key = ''\n",
    "\n",
    "base_url = 'https://api.census.gov/data/timeseries/bds'\n",
    "st = '55'\n",
    "y0, y1 = 2015, 2019\n",
    "response = requests.get(f'{base_url}?get=NAME,ESTAB,EMP,YEAR&for=county:*&in=state:{st}&time=from+{y0}+to+{y1}&NAICS=00{key}')\n",
    "response_body = response.json()\n",
    "response_body[:5]"
   ]
  },
  {
   "cell_type": "code",
   "execution_count": null,
   "id": "b75d39d9-cb28-4084-a462-7efc4bf428be",
   "metadata": {},
   "outputs": [],
   "source": [
    "#nbd docs\n",
    "df = pd.DataFrame(response_body[1:], columns=response_body[0])\n",
    "df.query('county == \"025\"').head()"
   ]
  },
  {
   "cell_type": "markdown",
   "id": "e523a7c5-1ff6-4bf9-9eb5-cc2959d8eb42",
   "metadata": {},
   "source": [
    "# Build this module"
   ]
  },
  {
   "cell_type": "code",
   "execution_count": null,
   "id": "231f2335-c551-4c11-8983-8441df5bc48b",
   "metadata": {},
   "outputs": [],
   "source": [
    "nbd.nb2mod('data.ipynb')"
   ]
  }
 ],
 "metadata": {
  "language_info": {
   "name": "python"
  }
 },
 "nbformat": 4,
 "nbformat_minor": 5
}
