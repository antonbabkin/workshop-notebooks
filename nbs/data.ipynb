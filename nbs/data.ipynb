{
 "cells": [
  {
   "cell_type": "markdown",
   "id": "4eeb536d-eb49-42c0-acae-8427b16aac56",
   "metadata": {},
   "source": [
    "[nbd]: # \"docs\"\n",
    "# Retrieve and prepare data"
   ]
  },
  {
   "cell_type": "code",
   "execution_count": null,
   "id": "f54a7c3d-ae05-4c1a-80f1-b61ec40cf957",
   "metadata": {},
   "outputs": [],
   "source": [
    "#nbd module\n",
    "import io\n",
    "\n",
    "import numpy as np\n",
    "import pandas as pd\n",
    "import geopandas\n",
    "\n",
    "from popemp.tools import Nbd, download_file\n",
    "\n",
    "nbd = Nbd('popemp')\n",
    "data_dir = nbd.root/'data'"
   ]
  },
  {
   "cell_type": "markdown",
   "id": "714037e8-7a3a-4ceb-8b8f-2d45ee14bc64",
   "metadata": {},
   "source": [
    "[nbd]: # \"docs\"\n",
    "## Geography\n",
    "\n",
    "[geocodes](https://www.census.gov/geographies/reference-files/2019/demo/popest/2019-fips.html)"
   ]
  },
  {
   "cell_type": "code",
   "execution_count": null,
   "id": "14afe1b4-cdea-40ff-ab05-01d41b19ee12",
   "metadata": {},
   "outputs": [],
   "source": [
    "#nbd module\n",
    "def geo():\n",
    "    df_file = data_dir/'geo.pkl'\n",
    "    if df_file.exists():\n",
    "        return pd.read_pickle(df_file)\n",
    "    \n",
    "    f = download_file('https://www2.census.gov/geo/tiger/GENZ2018/shp/cb_2018_us_state_20m.zip', data_dir)\n",
    "    df = geopandas.read_file(f)\n",
    "    df = df.rename(columns={'STATEFP': 'st', 'NAME': 'name'})\n",
    "    df = df[['st', 'name', 'geometry']]\n",
    "    df['cty'] = '000'\n",
    "    st = df\n",
    "\n",
    "    f = download_file('https://www2.census.gov/geo/tiger/GENZ2018/shp/cb_2018_us_county_20m.zip', data_dir)\n",
    "    df = geopandas.read_file(f)\n",
    "    df = df.rename(columns={'STATEFP': 'st', 'COUNTYFP': 'cty', 'NAME': 'name_cty'})\n",
    "    df = df[['st', 'cty', 'name_cty', 'geometry']]\n",
    "    df = df.merge(st[['st', 'name']], 'left')\n",
    "    df['name'] = df['name_cty'] + ' county, ' + df['name']\n",
    "    del df['name_cty']\n",
    "\n",
    "    df = pd.concat([df, st]).sort_values(['st', 'cty'], ignore_index=True)\n",
    "    df = df[['st', 'cty', 'name', 'geometry']]\n",
    "    \n",
    "    df.to_pickle(df_file)\n",
    "    return df"
   ]
  },
  {
   "cell_type": "code",
   "execution_count": null,
   "id": "d12c4437-5524-469f-893e-eacfc24f8a0b",
   "metadata": {},
   "outputs": [],
   "source": [
    "#nbd docs\n",
    "geo().head()"
   ]
  },
  {
   "cell_type": "markdown",
   "id": "7d1fe41e-3c1d-4df9-ac98-7fc93c932187",
   "metadata": {
    "tags": []
   },
   "source": [
    "[nbd]: # \"docs\"\n",
    "## Population\n",
    "\n",
    "[home](https://www.census.gov/programs-surveys/popest/data/data-sets.html)\n",
    "[2000-2010](https://www.census.gov/data/datasets/time-series/demo/popest/intercensal-2000-2010-counties.html)\n",
    "[2010-2019](https://www.census.gov/data/datasets/time-series/demo/popest/2010s-counties-total.html)\n",
    "\n",
    "For years before 1990 I could not find data in convenient format.\n",
    "\n",
    "[Character encoding](https://www.census.gov/programs-surveys/geography/technical-documentation/user-note/special-characters.html): newer files use \"UTF-8\", older use \"ISO-8859-1\"."
   ]
  },
  {
   "cell_type": "code",
   "execution_count": null,
   "id": "044bba9d-1d05-45b4-a791-4c59054fa313",
   "metadata": {},
   "outputs": [],
   "source": [
    "#nbd module\n",
    "def pop_2010_2019():\n",
    "    f = download_file('https://www2.census.gov/programs-surveys/popest/datasets/2010-2019/counties/totals/co-est2019-alldata.csv', data_dir)\n",
    "    cols = ['STATE', 'COUNTY'] + [f'POPESTIMATE{y}' for y in range(2010, 2020)]\n",
    "    df = pd.read_csv(f, encoding='ISO-8859-1', dtype='str', usecols=cols)\n",
    "    df = pd.wide_to_long(df, 'POPESTIMATE', ['STATE', 'COUNTY'], 'year')\n",
    "    df = df.reset_index().rename(columns={'STATE': 'st', 'COUNTY': 'cty', 'POPESTIMATE': 'pop'})\n",
    "    df['pop'] = df['pop'].astype('int')\n",
    "    return df"
   ]
  },
  {
   "cell_type": "code",
   "execution_count": null,
   "id": "98b8a631-e81e-4dfe-9488-a2470b4fc726",
   "metadata": {},
   "outputs": [],
   "source": [
    "#nbd module\n",
    "def pop_2000_2009():\n",
    "    f = download_file('https://www2.census.gov/programs-surveys/popest/datasets/2000-2010/intercensal/county/co-est00int-tot.csv', data_dir)\n",
    "    cols = ['STATE', 'COUNTY'] + [f'POPESTIMATE{y}' for y in range(2000, 2010)]\n",
    "    df = pd.read_csv(f, encoding='ISO-8859-1', dtype='str', usecols=cols)\n",
    "    df = pd.wide_to_long(df, 'POPESTIMATE', ['STATE', 'COUNTY'], 'year')\n",
    "    df = df.reset_index().rename(columns={'STATE': 'st', 'COUNTY': 'cty', 'POPESTIMATE': 'pop'})\n",
    "    df['st'] = df['st'].str.pad(2, fillchar='0')\n",
    "    df['cty'] = df['cty'].str.pad(3, fillchar='0')\n",
    "    df['pop'] = df['pop'].astype('int')\n",
    "    return df"
   ]
  },
  {
   "cell_type": "code",
   "execution_count": null,
   "id": "55532164-7320-4075-a496-53d53fcfdc91",
   "metadata": {},
   "outputs": [],
   "source": [
    "#nbd module\n",
    "def pop_1990_1999():\n",
    "    f = download_file('https://www2.census.gov/programs-surveys/popest/tables/1990-2000/estimates-and-change-1990-2000/2000c8_00.txt', data_dir)\n",
    "    with open(f, encoding='ISO-8859-1') as file:\n",
    "        data = io.StringIO()\n",
    "        in_table = False\n",
    "        for line in file:\n",
    "            if in_table:\n",
    "                if line[0] == '1':\n",
    "                    data.write(line)\n",
    "                else:\n",
    "                    break\n",
    "            else:\n",
    "                if line[0] == '1':\n",
    "                    in_table = True\n",
    "                    data.write(line)\n",
    "\n",
    "    data.seek(0)\n",
    "    df = pd.read_fwf(data, dtype='str', header=None)\n",
    "    # skip first row (US total), keep fips and popest cols\n",
    "    df = df.iloc[1:, 1:13]\n",
    "    df.columns = ['fips'] + [f'pop{y}' for y in range(2000, 1989, -1)]\n",
    "    df['fips'] = df['fips'].str.pad(5, 'right', '0')\n",
    "    df['st'] = df['fips'].str[:2]\n",
    "    df['cty'] = df['fips'].str[2:]\n",
    "    df = df.drop(columns=['pop2000', 'fips'])\n",
    "    df = pd.wide_to_long(df, 'pop', ['st', 'cty'], 'year')\n",
    "    df = df.reset_index()\n",
    "    df['pop'] = pd.to_numeric(df['pop'].str.replace(',', '', regex=False)).astype('int')\n",
    "\n",
    "    return df"
   ]
  },
  {
   "cell_type": "code",
   "execution_count": null,
   "id": "1019dc9a-c585-46d4-a75e-e48f377fe58d",
   "metadata": {},
   "outputs": [],
   "source": [
    "#nbd module\n",
    "def pop():\n",
    "    df_file = data_dir/'pop.pkl'\n",
    "    if df_file.exists():\n",
    "        return pd.read_pickle(df_file)\n",
    "    \n",
    "    d1 = pop_1990_1999()\n",
    "    d2 = pop_2000_2009()\n",
    "    d3 = pop_2010_2019()\n",
    "    df = pd.concat([d1, d2, d3], ignore_index=True)\n",
    "\n",
    "    d = df.query('cty == \"000\"').groupby('year')['pop'].sum()\n",
    "    d = d.to_frame('pop').reset_index()\n",
    "    d[['st', 'cty']] = ['00', '000']\n",
    "    df = pd.concat([df, d], ignore_index=True)\n",
    "\n",
    "    df = df.sort_values('year')\n",
    "    df['pop_'] = df.groupby(['st', 'cty'])['pop'].shift()\n",
    "    df['pop_gr'] = df.eval('(pop / pop_ - 1) * 100')\n",
    "    del df['pop_']\n",
    "\n",
    "    df = df.sort_values(['st', 'cty', 'year'])\n",
    "    df = df[['st', 'cty', 'year', 'pop', 'pop_gr']]\n",
    "\n",
    "    df.to_pickle(df_file)\n",
    "    return df"
   ]
  },
  {
   "cell_type": "code",
   "execution_count": null,
   "id": "7283a16d-f673-4c13-819f-9e236c1c4d01",
   "metadata": {},
   "outputs": [],
   "source": [
    "#nbd docs\n",
    "pop().head()"
   ]
  },
  {
   "cell_type": "markdown",
   "id": "d122e2a4-6912-4757-aa60-d8832dbdd68e",
   "metadata": {},
   "source": [
    "Something strange happens in 2000."
   ]
  },
  {
   "cell_type": "code",
   "execution_count": null,
   "id": "5642921c-cd7f-4198-a688-8aa871b66ffa",
   "metadata": {},
   "outputs": [],
   "source": [
    "d = pop()\n",
    "d.query('st == \"00\" and cty == \"000\"').set_index('year')['pop'].plot()"
   ]
  },
  {
   "cell_type": "code",
   "execution_count": null,
   "id": "606a61f0-c4f2-46e5-92dc-4e1a937847b0",
   "metadata": {},
   "outputs": [],
   "source": [
    "d.query('st == \"01\" and cty == \"000\"').set_index('year')['pop'].plot()"
   ]
  },
  {
   "cell_type": "markdown",
   "id": "273790d0-a923-4f6c-ac4a-4363cece5c9c",
   "metadata": {
    "tags": []
   },
   "source": [
    "[nbd]: # \"docs\"\n",
    "## Employment\n",
    "\n",
    "[datasets](https://www.census.gov/data/datasets/time-series/econ/bds/bds-datasets.html)"
   ]
  },
  {
   "cell_type": "code",
   "execution_count": null,
   "id": "f6e16390-b252-4d1b-b9f0-763776590e0b",
   "metadata": {},
   "outputs": [],
   "source": [
    "#nbd module\n",
    "def emp():\n",
    "    df_file = data_dir/'emp.pkl'\n",
    "    if df_file.exists():\n",
    "        return pd.read_pickle(df_file)    \n",
    "    \n",
    "    # economy-wide\n",
    "    f = download_file('https://www2.census.gov/programs-surveys/bds/tables/time-series/bds2019.csv', data_dir)\n",
    "    df = pd.read_csv(f, usecols=['year', 'emp', 'net_job_creation_rate'], dtype='str')\n",
    "    df[['st', 'cty']] = ['00', '000']\n",
    "    d1 = df\n",
    "\n",
    "    # by state\n",
    "    f = download_file('https://www2.census.gov/programs-surveys/bds/tables/time-series/bds2019_st.csv', data_dir)\n",
    "    df = pd.read_csv(f, usecols=['year', 'st', 'emp', 'net_job_creation_rate'], dtype='str')\n",
    "    df['cty'] = '000'\n",
    "    d2 = df\n",
    "\n",
    "    # by county\n",
    "    f = download_file('https://www2.census.gov/programs-surveys/bds/tables/time-series/bds2019_cty.csv', data_dir)\n",
    "    df = pd.read_csv(f, usecols=['year', 'st', 'cty', 'emp', 'net_job_creation_rate'], dtype='str')\n",
    "\n",
    "    df = pd.concat([d1, d2, df], ignore_index=True)\n",
    "    df = df.rename(columns={'net_job_creation_rate': 'emp_gr'})\n",
    "    df['year'] = df['year'].astype('int16')\n",
    "    df['emp'] = pd.to_numeric(df['emp'], 'coerce')\n",
    "    df['emp_gr'] = pd.to_numeric(df['emp_gr'], 'coerce')\n",
    "    df = df[['st', 'cty', 'year', 'emp', 'emp_gr']]\n",
    "    \n",
    "    df.to_pickle(df_file)\n",
    "    return df"
   ]
  },
  {
   "cell_type": "code",
   "execution_count": null,
   "id": "efbfc687-509a-41f0-94d4-8d5cccffd7f7",
   "metadata": {},
   "outputs": [],
   "source": [
    "#nbd docs\n",
    "emp().head()"
   ]
  },
  {
   "cell_type": "markdown",
   "id": "d910370f-25e7-4d7d-b5a3-ed02746f3fe1",
   "metadata": {
    "tags": []
   },
   "source": [
    "[nbd]: # \"docs\"\n",
    "### API\n",
    "\n",
    "[BDS API](https://www.census.gov/data/developers/data-sets/business-dynamics.html)"
   ]
  },
  {
   "cell_type": "code",
   "execution_count": null,
   "id": "af6148c7-d942-47f3-a206-9a7ce0cd2f14",
   "metadata": {},
   "outputs": [],
   "source": [
    "#nbd docs\n",
    "import requests\n",
    "key = open(nbd.root/'census_api_key.txt').read()\n",
    "url = 'https://api.census.gov/data/timeseries/bds'\n",
    "st = '55'\n",
    "r = requests.get(f'{url}?get=NAME,ESTAB,EMP,YEAR&for=county:*&in=state:{st}&time=from+2015+to+2019&NAICS=00&key={key}')\n",
    "d = r.json()\n",
    "df = pd.DataFrame(d[1:], columns=d[0])\n",
    "df.query('county == \"025\"').head()"
   ]
  },
  {
   "cell_type": "markdown",
   "id": "e523a7c5-1ff6-4bf9-9eb5-cc2959d8eb42",
   "metadata": {},
   "source": [
    "## Build this module"
   ]
  },
  {
   "cell_type": "code",
   "execution_count": null,
   "id": "231f2335-c551-4c11-8983-8441df5bc48b",
   "metadata": {},
   "outputs": [],
   "source": [
    "nbd.nb2mod('data.ipynb')"
   ]
  }
 ],
 "metadata": {
  "language_info": {
   "name": "python"
  }
 },
 "nbformat": 4,
 "nbformat_minor": 5
}
