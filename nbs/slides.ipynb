{
 "cells": [
  {
   "cell_type": "markdown",
   "id": "a7f4ba75-1894-4c48-bf8d-985a442665ad",
   "metadata": {
    "slideshow": {
     "slide_type": "slide"
    },
    "tags": []
   },
   "source": [
    "# Literate programming and interactive reporting with Jupyter notebooks\n",
    "*aka Notebok Imperialism*\n",
    "\n",
    "**Anton Babkin**  \n",
    "UConn and UW-Madison  \n",
    "anton.babkin@uconn.edu\n",
    "\n",
    "UW-Madison Data Science Research Bazaar  \n",
    "9 February 2022"
   ]
  },
  {
   "cell_type": "markdown",
   "id": "9e2fa01b-ca85-4ae7-b16a-b3eac87c94ce",
   "metadata": {
    "slideshow": {
     "slide_type": "slide"
    },
    "tags": []
   },
   "source": [
    "# Scientific paper is obsolete\n",
    "[The Atlantic](https://www.theatlantic.com/science/archive/2018/04/the-scientific-paper-is-obsolete/556676/), April 5, 2018\n",
    "\n",
    "![atlantic](https://cdn.theatlantic.com/assets/media/img/mt/2018/04/FlameNew_1/facebook.gif)"
   ]
  },
  {
   "cell_type": "markdown",
   "id": "dc9a15d9-c49f-4a8c-856d-d593b9f4ab93",
   "metadata": {
    "slideshow": {
     "slide_type": "slide"
    },
    "tags": []
   },
   "source": [
    "# Literate programming\n",
    "\n",
    "> Let us change our traditional attitude to the construction of programs: Instead of imagining that our main task is to instruct a computer what to do, let us concentrate rather on explaining to humans what we want the computer to do.\n",
    "\n",
    "Donald E. Knuth, Literate Programming, 1984"
   ]
  },
  {
   "cell_type": "markdown",
   "id": "adca4b83-9715-4cad-820b-81499097970a",
   "metadata": {
    "slideshow": {
     "slide_type": "slide"
    },
    "tags": []
   },
   "source": [
    "# This workshop\n",
    "\n",
    "- walk though all steps of a research project\n",
    "- focus on documentation and modularity\n",
    "- create an interactive dashboard\n",
    "- we will go over many different tools\n",
    "- but keep in mind bigger workflow picture\n",
    "\n",
    "Research question:  \n",
    "How states and counties in the USA compare in terms of their population and employment growth?"
   ]
  },
  {
   "cell_type": "markdown",
   "id": "acdb0aa3-4f0e-4bd0-b25f-d7790138fb86",
   "metadata": {
    "slideshow": {
     "slide_type": "slide"
    },
    "tags": []
   },
   "source": [
    "# Output preview\n",
    "\n",
    "- public GitHub repository\n",
    "- static documentation site\n",
    "- dashboard on Binder\n",
    "- importable components"
   ]
  },
  {
   "cell_type": "markdown",
   "id": "5e11dc49-5ad1-4451-a287-60ae1b9ff0d7",
   "metadata": {
    "slideshow": {
     "slide_type": "subslide"
    },
    "tags": []
   },
   "source": [
    "## importable components"
   ]
  },
  {
   "cell_type": "code",
   "execution_count": null,
   "id": "3f32f8df-3243-4ea4-96b4-1a3c016e34b9",
   "metadata": {},
   "outputs": [],
   "source": [
    "from popemp import analysis\n",
    "analysis.prep_data()\n",
    "analysis.plot_growth('55', '000', 2005, 2015)"
   ]
  },
  {
   "cell_type": "markdown",
   "id": "32530cc3-35a6-489d-904e-1df00aa627f7",
   "metadata": {
    "slideshow": {
     "slide_type": "slide"
    },
    "tags": []
   },
   "source": [
    "# Environment\n",
    "\n",
    "If you have a local Python/conda environment, pull most recent copy of the repo. Easiest way to do this is to delete everything and make a fresh clone.\n",
    "\n",
    "If you do not have local environment, *try* to use Binder."
   ]
  },
  {
   "cell_type": "markdown",
   "id": "ec28b79a-4c8e-4800-8416-01aa831d5d8e",
   "metadata": {
    "slideshow": {
     "slide_type": "slide"
    },
    "tags": []
   },
   "source": [
    "# File structure\n",
    "\n",
    "```\n",
    "README.md\n",
    "environment.yml        # env reproducibility\n",
    "mkdocs.yml             # docs config\n",
    "nbs/\n",
    "    __init__.ipynb     # control panel\n",
    "    tools.ipynb\n",
    "    data.ipynb\n",
    "    analysis.ipynb\n",
    "    dashboard.ipynb\n",
    "popemp/\n",
    "    tools.py\n",
    "    data.py\n",
    "    analysis.py\n",
    "docs_src/              # temporary docs files, gitignore\n",
    "    tools.md\n",
    "    data.md\n",
    "    analysis.md\n",
    "docs/                  # docs site hosted on GitHub\n",
    "    tools.html         # actual files are different\n",
    "    data.html          # but they are HTML versions\n",
    "    analysis.html      # of notebooks\n",
    "```"
   ]
  }
 ],
 "metadata": {
  "language_info": {
   "name": "python"
  }
 },
 "nbformat": 4,
 "nbformat_minor": 5
}
