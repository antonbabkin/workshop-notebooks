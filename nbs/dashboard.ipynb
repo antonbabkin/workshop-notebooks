{
 "cells": [
  {
   "cell_type": "markdown",
   "id": "aefbc575-3db9-4ffe-b97b-b3f4d685d9be",
   "metadata": {},
   "source": [
    "# Population and employment dynamics in states and counties of the USA\n",
    "\n",
    "This map shows how population and employment changed in different USA territories over time. Absolute growth is average growth rate in percentage points. Relative growth is deviation from growth in a reference territory: USA for states and state for counties."
   ]
  },
  {
   "cell_type": "code",
   "execution_count": null,
   "id": "76e2f368-d559-451e-9ff1-1349fc327ad4",
   "metadata": {},
   "outputs": [],
   "source": [
    "import ipywidgets as widgets\n",
    "\n",
    "# run initialization in the context of a temporary Output widget\n",
    "# this has effect of concealing all output so it does not clutter the dashboard\n",
    "with widgets.Output():\n",
    "    # cd to project root and back for import from \"popemp\" package\n",
    "    # this is needed to run dashboard on Binder without creating symlink\n",
    "    %cd ..\n",
    "    from popemp import analysis\n",
    "    %cd -\n",
    "\n",
    "    analysis.prep_data()"
   ]
  },
  {
   "cell_type": "code",
   "execution_count": null,
   "id": "b882a418-e658-4ce9-8ecb-81fde181dda3",
   "metadata": {},
   "outputs": [],
   "source": [
    "year_selector = widgets.IntRangeSlider(value=(2005, 2015), min=1990, max=2019)\n",
    "abs_rel_selector = widgets.RadioButtons(options=[('Absolute', 'abs'), ('Relative', 'rel')])\n",
    "state_selector, _ = analysis.st_cty_selectors()\n",
    "update_button = widgets.Button(description='Update')\n",
    "\n",
    "controls = widgets.VBox([\n",
    "    widgets.Label('Year range'),\n",
    "    year_selector,\n",
    "    widgets.Label('Growth rates'),\n",
    "    abs_rel_selector,\n",
    "    widgets.Label('Nation-wide or state'), \n",
    "    state_selector, \n",
    "    update_button])\n",
    "\n",
    "map_ = analysis.Map()\n",
    "map_.widget.layout = widgets.Layout(height='100%')\n",
    "\n",
    "graph = widgets.Output()"
   ]
  },
  {
   "cell_type": "code",
   "execution_count": null,
   "id": "739f22ff-f1b1-469a-a2ba-fb0d69c08b69",
   "metadata": {},
   "outputs": [],
   "source": [
    "def update_graph(st, cty):\n",
    "    with graph:\n",
    "        graph.clear_output(True)\n",
    "        fig = analysis.plot_growth(st, cty, *year_selector.value)\n",
    "        fig.set_size_inches(8, 10)\n",
    "        display(fig)\n",
    "\n",
    "def update_map(*_):\n",
    "    map_.upd(state_selector.value, *year_selector.value, abs_rel_selector.value)\n",
    "    update_graph(state_selector.value, '000')\n",
    "update_button.on_click(update_map)\n",
    "\n",
    "def click_area(**kw):\n",
    "    p = kw['properties']\n",
    "    update_graph(p['st'], p['cty'])\n",
    "map_.click_callback = click_area\n",
    "\n",
    "update_map()"
   ]
  },
  {
   "cell_type": "code",
   "execution_count": null,
   "id": "e3fb4dd0-b42c-47e7-953c-e16e1d8b7c13",
   "metadata": {},
   "outputs": [],
   "source": [
    "widgets.AppLayout(left_sidebar=controls,\n",
    "                center=map_.widget, \n",
    "                right_sidebar=graph)"
   ]
  },
  {
   "cell_type": "markdown",
   "id": "5ca6ebe4-0c0b-4455-afd5-a8dac2817298",
   "metadata": {},
   "source": [
    "Data sources:\n",
    "- [population](https://www.census.gov/programs-surveys/popest.html) - US Census Bureau, Population Estimates Program (PEP)\n",
    "- [employment](https://www.census.gov/programs-surveys/bds.html) - US Census Bureau, Business Dynamics Statistics (BDS) "
   ]
  }
 ],
 "metadata": {
  "language_info": {
   "name": "python"
  }
 },
 "nbformat": 4,
 "nbformat_minor": 5
}
