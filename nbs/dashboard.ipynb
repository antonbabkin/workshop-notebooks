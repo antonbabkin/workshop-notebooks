{
 "cells": [
  {
   "cell_type": "markdown",
   "id": "aefbc575-3db9-4ffe-b97b-b3f4d685d9be",
   "metadata": {},
   "source": [
    "# Population and employment dynamics in states and counties of the USA"
   ]
  },
  {
   "cell_type": "code",
   "execution_count": null,
   "id": "76e2f368-d559-451e-9ff1-1349fc327ad4",
   "metadata": {},
   "outputs": [],
   "source": [
    "#nbd voila-hide\n",
    "import ipywidgets as widgets\n",
    "import ipyleaflet as leaflet\n",
    "import matplotlib.pyplot as plt\n",
    "import json\n",
    "\n",
    "%cd ..\n",
    "from popemp import analysis\n",
    "%cd -\n",
    "\n",
    "analysis.prep_data()"
   ]
  },
  {
   "cell_type": "code",
   "execution_count": null,
   "id": "7a6cfda9-2341-426d-b235-cda2c1d504d9",
   "metadata": {},
   "outputs": [],
   "source": [
    "year_selector = widgets.IntRangeSlider(value=(2007, 2012), min=1990, max=2019)\n",
    "abs_rel_selector = widgets.RadioButtons(options=[('Absolute', 'abs'), ('Relative', 'rel')])\n",
    "state_selector, _ = analysis.st_cty_selectors()\n",
    "update_button = widgets.Button(description='Update')\n",
    "controls = widgets.VBox([year_selector, abs_rel_selector, widgets.Label('Select US or state'), state_selector, update_button])\n",
    "map_ = analysis.Map()\n",
    "map_.widget.layout = widgets.Layout(height='100%')\n",
    "graph = widgets.Output()"
   ]
  },
  {
   "cell_type": "code",
   "execution_count": null,
   "id": "85f9e4a3-2012-4291-8c3e-bda5a4d9e0c2",
   "metadata": {},
   "outputs": [],
   "source": [
    "def update_graph(st, cty):\n",
    "    with graph:\n",
    "        graph.clear_output(True)\n",
    "        fig = analysis.plot_growth(st, cty, *year_selector.value)\n",
    "        fig.set_size_inches(8, 10)\n",
    "        display(fig)\n",
    "\n",
    "def update_map(*_):\n",
    "    map_.upd(state_selector.value, *year_selector.value, abs_rel_selector.value)\n",
    "    update_graph(state_selector.value, '000')\n",
    "update_button.on_click(update_map)\n",
    "\n",
    "def click_area(**kw):\n",
    "    p = kw['properties']\n",
    "    update_graph(p['st'], p['cty'])\n",
    "map_.click_callback = click_area\n",
    "\n",
    "update_map()\n",
    "\n",
    "widgets.AppLayout(left_sidebar=controls,\n",
    "                center=map_.widget, \n",
    "                right_sidebar=graph)"
   ]
  }
 ],
 "metadata": {
  "language_info": {
   "name": "python"
  }
 },
 "nbformat": 4,
 "nbformat_minor": 5
}
